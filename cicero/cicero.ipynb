{
 "cells": [
  {
   "cell_type": "code",
   "execution_count": 4,
   "id": "8430d025-9aa7-4df6-b5d1-d3b1f29a548e",
   "metadata": {},
   "outputs": [],
   "source": [
    "import spacy\n",
    "spacy.prefer_gpu()\n",
    "nlp = spacy.load(\"en_core_web_sm\")"
   ]
  },
  {
   "cell_type": "code",
   "execution_count": 10,
   "id": "77dc62a9-57de-49bf-919c-93e0fe52750a",
   "metadata": {},
   "outputs": [
    {
     "name": "stdout",
     "output_type": "stream",
     "text": [
      "Noun phrases: ['our side fights', 'their side impudence', 'our side decency', 'theirs', 'our side good faith', 'theirs', 'ours dutifulness', 'theirs criminality', 'ours firmness', 'purpose', 'theirs', 'madness', 'ours', 'theirs', 'ours continence', 'theirs', 'justice', 'temperance', 'fortitude', 'prudence', 'all the virtues', 'injustice', 'prodigality', 'cowardice', 'imprudence', 'all the vices']\n",
      "Verbs: ['deceit', 'rave', 'contend']\n",
      "theirs deceit LOC\n"
     ]
    }
   ],
   "source": [
    "text = (\"On our side fights modesty, on their side impudence; on our side decency, on theirs disgracefulness; on our side good faith, on theirs deceit; on ours dutifulness, on theirs criminality; on ours firmness of purpose, on theirs raving madness; on ours the honorable, on theirs the base; on ours continence, on theirs lust; finally, justice, temperance, fortitude, prudence—all the virtues contend with injustice, prodigality, cowardice, imprudence—with all the vices\")\n",
    "doc = nlp(text)\n",
    "\n",
    "# Analyze syntax\n",
    "print(\"Noun phrases:\", [chunk.text for chunk in doc.noun_chunks])\n",
    "print(\"Verbs:\", [token.lemma_ for token in doc if token.pos_ == \"VERB\"])\n",
    "\n",
    "# Find named entities, phrases and concepts\n",
    "for entity in doc.ents:\n",
    "    print(entity.text, entity.label_)\n"
   ]
  },
  {
   "cell_type": "code",
   "execution_count": 11,
   "id": "b5fd2c8b-67b7-4541-b3f7-a38fbef3e781",
   "metadata": {},
   "outputs": [
    {
     "name": "stdout",
     "output_type": "stream",
     "text": [
      "On on ADP IN prep Xx True True\n",
      "our our PRON PRP$ poss xxx True True\n",
      "side side NOUN NN compound xxxx True True\n",
      "fights fight NOUN NNS pobj xxxx True False\n",
      "modesty modesty NOUN NN advmod xxxx True False\n",
      ", , PUNCT , punct , False False\n",
      "on on ADP IN prep xx True True\n",
      "their their PRON PRP$ poss xxxx True True\n",
      "side side NOUN NN compound xxxx True True\n",
      "impudence impudence NOUN NN pobj xxxx True False\n",
      "; ; PUNCT : punct ; False False\n",
      "on on ADP IN prep xx True True\n",
      "our our PRON PRP$ poss xxx True True\n",
      "side side ADJ JJ amod xxxx True True\n",
      "decency decency NOUN NN pobj xxxx True False\n",
      ", , PUNCT , punct , False False\n",
      "on on ADP IN prep xx True True\n",
      "theirs theirs PRON PRP pobj xxxx True False\n",
      "disgracefulness disgracefulness ADV RB ccomp xxxx True False\n",
      "; ; PUNCT : punct ; False False\n",
      "on on ADP IN prep xx True True\n",
      "our our PRON PRP$ poss xxx True True\n",
      "side side ADJ JJ amod xxxx True True\n",
      "good good ADJ JJ amod xxxx True False\n",
      "faith faith NOUN NN pobj xxxx True False\n",
      ", , PUNCT , punct , False False\n",
      "on on ADP IN prep xx True True\n",
      "theirs theirs PRON PRP pobj xxxx True False\n",
      "deceit deceit VERB VBP ccomp xxxx True False\n",
      "; ; PUNCT : punct ; False False\n",
      "on on ADP IN prep xx True True\n",
      "ours ours PRON PRP$ poss xxxx True True\n",
      "dutifulness dutifulness NOUN NN pobj xxxx True False\n",
      ", , PUNCT , punct , False False\n",
      "on on ADP IN prep xx True True\n",
      "theirs theirs PRON PRP compound xxxx True False\n",
      "criminality criminality NOUN NN pobj xxxx True False\n",
      "; ; PUNCT : punct ; False False\n",
      "on on ADP IN prep xx True True\n",
      "ours ours PRON PRP$ poss xxxx True True\n",
      "firmness firmness NOUN NN pobj xxxx True False\n",
      "of of ADP IN prep xx True True\n",
      "purpose purpose NOUN NN pobj xxxx True False\n",
      ", , PUNCT , punct , False False\n",
      "on on ADP IN prep xx True True\n",
      "theirs theirs PRON PRP nsubj xxxx True False\n",
      "raving rave VERB VBG pcomp xxxx True False\n",
      "madness madness NOUN NN dobj xxxx True False\n",
      "; ; PUNCT : punct ; False False\n",
      "on on ADP IN prep xx True True\n",
      "ours ours PRON PRP$ pobj xxxx True True\n",
      "the the DET DT det xxx True True\n",
      "honorable honorable ADJ JJ amod xxxx True False\n",
      ", , PUNCT , punct , False False\n",
      "on on ADP IN prep xx True True\n",
      "theirs theirs PRON PRP pobj xxxx True False\n",
      "the the DET DT det xxx True True\n",
      "base base NOUN NN dobj xxxx True False\n",
      "; ; PUNCT : punct ; False False\n",
      "on on ADP IN prep xx True True\n",
      "ours ours PRON PRP$ poss xxxx True True\n",
      "continence continence NOUN NN pobj xxxx True False\n",
      ", , PUNCT , punct , False False\n",
      "on on ADP IN prep xx True True\n",
      "theirs theirs PRON PRP pobj xxxx True False\n",
      "lust lust ADV RB appos xxxx True False\n",
      "; ; PUNCT : punct ; False False\n",
      "finally finally ADV RB advmod xxxx True False\n",
      ", , PUNCT , punct , False False\n",
      "justice justice NOUN NN nsubj xxxx True False\n",
      ", , PUNCT , punct , False False\n",
      "temperance temperance NOUN NN conj xxxx True False\n",
      ", , PUNCT , punct , False False\n",
      "fortitude fortitude NOUN NN conj xxxx True False\n",
      ", , PUNCT , punct , False False\n",
      "prudence prudence NOUN NN conj xxxx True False\n",
      "— — PUNCT : punct — False False\n",
      "all all DET PDT predet xxx True True\n",
      "the the DET DT det xxx True True\n",
      "virtues virtue NOUN NNS appos xxxx True False\n",
      "contend contend VERB VBP ROOT xxxx True False\n",
      "with with ADP IN prep xxxx True True\n",
      "injustice injustice NOUN NN pobj xxxx True False\n",
      ", , PUNCT , punct , False False\n",
      "prodigality prodigality NOUN NN conj xxxx True False\n",
      ", , PUNCT , punct , False False\n",
      "cowardice cowardice NOUN NN conj xxxx True False\n",
      ", , PUNCT , punct , False False\n",
      "imprudence imprudence NOUN NN appos xxxx True False\n",
      "— — PUNCT : punct — False False\n",
      "with with ADP IN prep xxxx True True\n",
      "all all DET PDT predet xxx True True\n",
      "the the DET DT det xxx True True\n",
      "vices vice NOUN NNS pobj xxxx True False\n"
     ]
    }
   ],
   "source": [
    "for token in doc:\n",
    "    print(token.text, token.lemma_, token.pos_, token.tag_, token.dep_,\n",
    "            token.shape_, token.is_alpha, token.is_stop)\n"
   ]
  },
  {
   "cell_type": "code",
   "execution_count": 9,
   "id": "4b5ffe6b-b0ea-4108-b19b-e36701f2d2c4",
   "metadata": {},
   "outputs": [
    {
     "name": "stdout",
     "output_type": "stream",
     "text": [
      "Autonomous cars cars nsubj shift\n",
      "insurance liability liability dobj shift\n",
      "manufacturers manufacturers pobj toward\n"
     ]
    }
   ],
   "source": [
    "doc = nlp(\"Autonomous cars shift insurance liability toward manufacturers\")\n",
    "for chunk in doc.noun_chunks:\n",
    "    print(chunk.text, chunk.root.text, chunk.root.dep_,\n",
    "            chunk.root.head.text)\n"
   ]
  }
 ],
 "metadata": {
  "kernelspec": {
   "display_name": "Python 3 (ipykernel)",
   "language": "python",
   "name": "python3"
  },
  "language_info": {
   "codemirror_mode": {
    "name": "ipython",
    "version": 3
   },
   "file_extension": ".py",
   "mimetype": "text/x-python",
   "name": "python",
   "nbconvert_exporter": "python",
   "pygments_lexer": "ipython3",
   "version": "3.12.8"
  }
 },
 "nbformat": 4,
 "nbformat_minor": 5
}
